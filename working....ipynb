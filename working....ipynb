{
 "cells": [
  {
   "cell_type": "code",
   "execution_count": 1,
   "metadata": {},
   "outputs": [
    {
     "ename": "AttributeError",
     "evalue": "'generator' object has no attribute 'get'",
     "output_type": "error",
     "traceback": [
      "\u001b[1;31m---------------------------------------------------------------------------\u001b[0m",
      "\u001b[1;31mAttributeError\u001b[0m                            Traceback (most recent call last)",
      "\u001b[1;32m<ipython-input-1-20a8c281ab78>\u001b[0m in \u001b[0;36m<module>\u001b[1;34m()\u001b[0m\n\u001b[0;32m      8\u001b[0m \u001b[0mtrain\u001b[0m \u001b[1;33m=\u001b[0m \u001b[0marff\u001b[0m\u001b[1;33m.\u001b[0m\u001b[0mloads\u001b[0m\u001b[1;33m(\u001b[0m\u001b[0mtrain\u001b[0m\u001b[1;33m)\u001b[0m\u001b[1;33m\u001b[0m\u001b[0m\n\u001b[0;32m      9\u001b[0m \u001b[1;33m\u001b[0m\u001b[0m\n\u001b[1;32m---> 10\u001b[1;33m \u001b[0mtrain_total\u001b[0m \u001b[1;33m=\u001b[0m \u001b[1;33m(\u001b[0m\u001b[0mtrain\u001b[0m\u001b[1;33m.\u001b[0m\u001b[0mget\u001b[0m\u001b[1;33m(\u001b[0m\u001b[1;34m'data'\u001b[0m\u001b[1;33m)\u001b[0m\u001b[1;33m)\u001b[0m\u001b[1;33m\u001b[0m\u001b[0m\n\u001b[0m\u001b[0;32m     11\u001b[0m \u001b[1;31m# print(len(train_data)) # 186\u001b[0m\u001b[1;33m\u001b[0m\u001b[1;33m\u001b[0m\u001b[0m\n\u001b[0;32m     12\u001b[0m \u001b[1;31m# length with C1 label: 36\u001b[0m\u001b[1;33m\u001b[0m\u001b[1;33m\u001b[0m\u001b[0m\n",
      "\u001b[1;31mAttributeError\u001b[0m: 'generator' object has no attribute 'get'"
     ]
    }
   ],
   "source": [
    "import arff\n",
    "import random\n",
    "########################################################\n",
    "# Data Loader: train data and test data split\n",
    "########################################################\n",
    "# def dataloader():\n",
    "train = open('trainProdSelection.arff')\n",
    "train = arff.loads(train)\n",
    "\n",
    "train_total = (train.get('data'))\n",
    "# print(len(train_data)) # 186\n",
    "# length with C1 label: 36\n",
    "# length with C2 label: 26\n",
    "# length with C3 label: 41\n",
    "# length with C4 label: 47\n",
    "# length with C5 label: 36\n",
    "# print(len(train_model)) # 128\n",
    "'''\n",
    "split 70% data randomly from each class individually as experiment data to build model\n",
    "def data_loader():\n",
    "return train_model, test_model\n",
    "'''\n",
    "train_model, test_model, train_C1, train_C2, train_C3, train_C4, train_C5 =[], [], [], [], [], [], []\n",
    "for i in range(25):\n",
    "    train_C1.append(random.choice(train_total[0:35]))\n",
    "    train_C5.append(random.choice(train_total[-36:-1]))\n",
    "for i in range(18):\n",
    "    train_C2.append(random.choice(train_total[36:61]))\n",
    "for i in range(28):\n",
    "    train_C3.append(random.choice(train_total[62:102]))\n",
    "for i in range(32):\n",
    "    train_C4.append(random.choice(train_total[103:149]))\n",
    "\n",
    "train_model = train_C1 + train_C2 + train_C3 + train_C4 + train_C5\n",
    "\n",
    "'''\n",
    "create the test set that are included in the train_total but train_data\n",
    "'''\n",
    "for row in train_total:\n",
    "    if row not in train_model: test_model.append(row)\n",
    "\n",
    "print(\"test data %:\", int(len(test_model)/186*100))\n",
    "\n",
    "# return train_model, test_model\n"
   ]
  },
  {
   "cell_type": "code",
   "execution_count": 16,
   "metadata": {},
   "outputs": [],
   "source": [
    "import arff\n",
    "train = open('trainProdSelection.arff')\n",
    "train_1 = arff.load(train)\n",
    "\n",
    "# print(*train,sep ='\\n')\n",
    "data = []\n",
    "data.append([(n) for n in train])"
   ]
  },
  {
   "cell_type": "code",
   "execution_count": 27,
   "metadata": {},
   "outputs": [],
   "source": [
    "train_model = []\n",
    "for i in range(11,186):\n",
    "    train_model.append((data[0][i]))"
   ]
  },
  {
   "cell_type": "code",
   "execution_count": 30,
   "metadata": {},
   "outputs": [
    {
     "name": "stdout",
     "output_type": "stream",
     "text": [
      "student,spend>saving,6,40,13.62,3.2804,C1\n",
      "\n"
     ]
    }
   ],
   "source": [
    "print (train_model[0])"
   ]
  },
  {
   "cell_type": "code",
   "execution_count": null,
   "metadata": {},
   "outputs": [],
   "source": []
  }
 ],
 "metadata": {
  "kernelspec": {
   "display_name": "Python 3",
   "language": "python",
   "name": "python3"
  },
  "language_info": {
   "codemirror_mode": {
    "name": "ipython",
    "version": 3
   },
   "file_extension": ".py",
   "mimetype": "text/x-python",
   "name": "python",
   "nbconvert_exporter": "python",
   "pygments_lexer": "ipython3",
   "version": "3.6.4"
  }
 },
 "nbformat": 4,
 "nbformat_minor": 2
}
